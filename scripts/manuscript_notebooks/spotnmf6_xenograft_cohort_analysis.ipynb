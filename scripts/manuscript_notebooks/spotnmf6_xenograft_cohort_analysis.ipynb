{
 "cells": [
  {
   "cell_type": "markdown",
   "id": "ddfed1b2",
   "metadata": {},
   "source": [
    "## 2. Correlation of SS and Admix with Usages"
   ]
  },
  {
   "cell_type": "code",
   "execution_count": null,
   "id": "56c12a58",
   "metadata": {},
   "outputs": [],
   "source": [
    "import os \n",
    "import pandas as pd \n",
    "import matplotlib as mpl\n",
    "mpl.rcParams['pdf.fonttype'] = 42\n",
    "mpl.rcParams['ps.fonttype'] = 42\n",
    "import matplotlib.pyplot as plt\n",
    "import pandas as pd\n",
    "import numpy as np\n",
    "import glob\n",
    "\n",
    "from sklearn.metrics.pairwise import cosine_similarity\n",
    "import sys\n",
    "from tqdm import tqdm\n",
    "sys.path.append('..')\n",
    "from Wassgard.wassgard import io,annotate\n",
    "import os \n",
    "import pandas as pd\n",
    "\n",
    "\n",
    "def load_pdx_results(file_type):\n",
    "\n",
    "    genome = \"mm10\" if \"mm\" in file_type else \"GRCh38\"\n",
    "\n",
    "    silver_dir = \"Z:/MorrissyLab Dropbox/Visium_profiling/results/cNMF\"\n",
    "\n",
    "    silver_standard_dict = {\n",
    "        \"spectra_mm\": 'GBM_PDX_Visium_Mm_K90/cNMF_output/Mm_all.gene_spectra_score.k_90.dt_0_10.txt',\n",
    "        \"spectra_hs\": 'GBM_PDX_Visium_Hs_K15/cNMF_output/Hs_all.gene_spectra_score.k_15.dt_0_10.txt',\n",
    "        \"usage_mm\": 'GBM_PDX_Visium_Mm_K90/Consensus_matrix_modified/Mm_all.usages.k_90.dt_0_10.consensus_normalized_scaledwithadmix.txt',\n",
    "        \"usage_hs\": 'GBM_PDX_Visium_Hs_K15/Consensus_modified/Hs_all.usages.k_15.dt_0_10.consensus_normalized_scaledwithadmix.txt'\n",
    "    }\n",
    "\n",
    "    annotation_df = pd.read_csv(r\"Z:\\MorrissyLab Dropbox\\Manuscripts_in_progress\\spOT-NMF\\Tables\\genome_biology_annotation.csv\")\n",
    "    annotation_df[\"program_name\"] = annotation_df['cNMF_Program'] + \"_\" + annotation_df['Annotation_group1_short']\n",
    "\n",
    "    if genome == 'GRCh38':\n",
    "        ann_sub = annotation_df[annotation_df['Category'] == 'Tumor']\n",
    "    else:\n",
    "        ann_sub = annotation_df[annotation_df['Category'] != 'Tumor']\n",
    "\n",
    "    rename_map = (\n",
    "        ann_sub\n",
    "        .set_index('SS_name')['program_name']\n",
    "        .to_dict()\n",
    "    )\n",
    "\n",
    "    if file_type not in silver_standard_dict:\n",
    "        raise ValueError(f\"Invalid rank: {file_type}. Available ranks: {list(silver_standard_dict.keys())}\")\n",
    "\n",
    "    file_path = os.path.join(silver_dir, silver_standard_dict[file_type])\n",
    "    \n",
    "    cell2location_df = pd.read_csv(file_path, index_col=0, sep='\\t')\n",
    "    cell2location_df = cell2location_df.rename(columns=rename_map)\n",
    "\n",
    "    return cell2location_df\n",
    "\n",
    "\n",
    "\n",
    "def calculate_and_plot_correlation(results_dir_path, usage_df, df_admix, title):\n",
    "    \"\"\"\n",
    "    Calculates the Pearson correlation between all columns of usage_df and the 'admix' column of df_admix,\n",
    "    and then plots the correlations in a sorted bar chart.\n",
    "\n",
    "    Args:\n",
    "        usage_df (pd.DataFrame): DataFrame containing usage data.\n",
    "        df_admix (pd.DataFrame): DataFrame containing admix data, with an 'admix' column.\n",
    "\n",
    "    Returns:\n",
    "        None (displays a plot).\n",
    "    \"\"\"\n",
    "\n",
    "    # 1. Check if dataframes are empty or have different indices\n",
    "    if usage_df.empty or df_admix.empty:\n",
    "        print(\"Error: Input DataFrames cannot be empty.\")\n",
    "        return\n",
    "\n",
    "    usage_df = usage_df.reindex(df_admix.index)\n",
    "\n",
    "    # 2. Calculate Pearson correlations\n",
    "    correlations = {}\n",
    "    for col in usage_df.columns:\n",
    "        correlations[col] = usage_df[col].corr(df_admix['admix'])\n",
    "\n",
    "    # 3. Create a DataFrame from the correlations\n",
    "    correlation_df = pd.DataFrame(list(correlations.items()), columns=['program', 'correlation'])\n",
    "\n",
    "    # 4. Sort the correlations from low to high\n",
    "    correlation_df_sorted = correlation_df.sort_values(by='correlation')\n",
    "    correlation_df_sorted.to_csv(os.path.join(results_dir_path, f\"admix_corr_{title}.csv\"))\n",
    "\n",
    "    # 5. Plot the sorted correlations\n",
    "    plt.figure(figsize=(20, 5))\n",
    "    plt.bar(correlation_df_sorted['program'], correlation_df_sorted['correlation'])\n",
    "    plt.xlabel('Programs')\n",
    "    plt.ylabel('Pearson Correlation')\n",
    "    plt.title(f'Correlation of Programs with Admix {title}')\n",
    "    plt.xticks(rotation=90, ha='right')  # Rotate x-axis labels for better readability\n",
    "    plt.tight_layout()\n",
    "    plt.savefig(os.path.join(results_dir_path, f\"admix_corr_{title}.pdf\"))\n",
    "    plt.close()\n",
    "    # plt.show()\n",
    "\n",
    "def compute_correlations(results_dir):\n",
    "    df_admix = pd.read_csv(fr\"Z:\\MorrissyLab Dropbox\\Visium_profiling\\benchmark\\simulation\\stats\\sample_obs.csv\", index_col=0)\n",
    "    for sample_results in os.listdir(results_dir):\n",
    "        results_dir_path = os.path.join(results_dir, sample_results)\n",
    "        # Find any file that starts with 'topics_per_spot' in the results_dir_path\n",
    "        matching_files = glob.glob(os.path.join(results_dir_path, \"topics_per_spot*.csv\"))\n",
    "        if matching_files:\n",
    "            usage_df = pd.read_csv(matching_files[0], index_col=0)\n",
    "\n",
    "            ## For admix\n",
    "            calculate_and_plot_correlation(results_dir_path, usage_df, df_admix, title=f\"{sample_results}\")\n",
    "\n",
    "            ## for correlations\n",
    "            pdx_df = load_pdx_results(file_type=\"usage_mm\" if \"mm10\" in sample_results else \"usage_hs\")\n",
    "\n",
    "            annotation_df = pd.read_csv(r\"Z:\\MorrissyLab Dropbox\\Manuscripts_in_progress\\spOT-NMF\\Tables\\genome_biology_annotation.csv\")\n",
    "            annotation_df[\"program_name\"] = annotation_df['cNMF_Program'] + \"_\" + annotation_df['Annotation_group1_short']\n",
    "            annotation_df.set_index(\"program_name\", inplace=True)\n",
    "            annotation_df[\"annotation\"] = annotation_df[\"Annotation_type\"]\n",
    "            annotation_df.loc[annotation_df[\"Category\"] == \"TME\", \"annotation\"] = annotation_df[\"Category\"]\n",
    "\n",
    "\n",
    "\n",
    "            annotate.benchmark_corr_silverstandard(results_dir_path, pdx_df, usage_df,\n",
    "                                                   annotation_df=annotation_df, correlation_type = \"cosine\", title=f\"{sample_results}\")\n",
    "        else:\n",
    "            continue\n",
    "            # raise FileNotFoundError(\"No file starting with 'topics_per_spot' found in the results directory.\")\n",
    "\n",
    "\n",
    "# compute_correlations(results_dir = r\"Z:\\MorrissyLab Dropbox\\Visium_profiling\\xenograft_case_study\\wassgard_xenograft_ranks\")\n",
    "# compute_correlations(results_dir = r\"Z:\\MorrissyLab Dropbox\\Visium_profiling\\xenograft_case_study\\V_ODG\")\n",
    "# compute_correlations(results_dir = r\"Z:\\MorrissyLab Dropbox\\Visium_profiling\\xenograft_case_study\\DefaultParamters\")\n",
    "# compute_correlations(results_dir = r\"Z:\\MorrissyLab Dropbox\\Visium_profiling\\xenograft_case_study\\BestMatches\")\n",
    "# compute_correlations(results_dir = r\"Z:\\MorrissyLab Dropbox\\Visium_profiling\\xenograft_case_study\\BestLoss\")\n",
    "\n",
    "\n",
    "# compute_correlations(results_dir = r\"Z:\\MorrissyLab Dropbox\\Manuscripts_in_progress\\spOT-NMF\\Raw_Data\\xenograft_casestudy_fig7\")\n",
    "\n",
    "compute_correlations(results_dir = r\"Z:\\MorrissyLab Dropbox\\Visium_profiling\\xenograft_case_study\\xenograft_v2_results\")\n",
    "\n"
   ]
  },
  {
   "cell_type": "markdown",
   "id": "baa63a00",
   "metadata": {},
   "source": [
    "## Rerun pathways"
   ]
  },
  {
   "cell_type": "code",
   "execution_count": 3,
   "id": "2f289b42",
   "metadata": {},
   "outputs": [
    {
     "name": "stdout",
     "output_type": "stream",
     "text": [
      "Running enrichment for GO:BP\n"
     ]
    },
    {
     "name": "stderr",
     "output_type": "stream",
     "text": [
      "Querying g:Profiler: 100%|██████████| 15/15 [00:15<00:00,  1.06s/program]\n",
      "Traceback (most recent call last):\n",
      "  File \"z:\\phd\\Projects\\SpatialTM\\notebooks\\..\\Wassgard\\wassgard\\enrichment.py\", line 82, in run_topics_pathway_enrichment\n",
      "    plt.close(fig_cluster)\n",
      "  File \"c:\\Users\\alyos\\miniconda3\\envs\\bio_ai\\Lib\\site-packages\\matplotlib\\pyplot.py\", line 1189, in close\n",
      "    raise TypeError(\"close() argument must be a Figure, an int, a string, \"\n",
      "TypeError: close() argument must be a Figure, an int, a string, or None, not <class 'seaborn.matrix.ClusterGrid'>\n"
     ]
    },
    {
     "name": "stdout",
     "output_type": "stream",
     "text": [
      "The plot is huge and it can't be rendered.\n",
      "Running enrichment for GO:CC\n"
     ]
    },
    {
     "name": "stderr",
     "output_type": "stream",
     "text": [
      "Querying g:Profiler: 100%|██████████| 15/15 [00:11<00:00,  1.30program/s]\n",
      "Traceback (most recent call last):\n",
      "  File \"z:\\phd\\Projects\\SpatialTM\\notebooks\\..\\Wassgard\\wassgard\\enrichment.py\", line 82, in run_topics_pathway_enrichment\n",
      "    plt.close(fig_cluster)\n",
      "  File \"c:\\Users\\alyos\\miniconda3\\envs\\bio_ai\\Lib\\site-packages\\matplotlib\\pyplot.py\", line 1189, in close\n",
      "    raise TypeError(\"close() argument must be a Figure, an int, a string, \"\n",
      "TypeError: close() argument must be a Figure, an int, a string, or None, not <class 'seaborn.matrix.ClusterGrid'>\n"
     ]
    },
    {
     "name": "stdout",
     "output_type": "stream",
     "text": [
      "The plot is huge and it can't be rendered.\n",
      "Running enrichment for KEGG\n"
     ]
    },
    {
     "name": "stderr",
     "output_type": "stream",
     "text": [
      "Querying g:Profiler: 100%|██████████| 15/15 [00:10<00:00,  1.46program/s]\n",
      "Traceback (most recent call last):\n",
      "  File \"z:\\phd\\Projects\\SpatialTM\\notebooks\\..\\Wassgard\\wassgard\\enrichment.py\", line 82, in run_topics_pathway_enrichment\n",
      "    plt.close(fig_cluster)\n",
      "  File \"c:\\Users\\alyos\\miniconda3\\envs\\bio_ai\\Lib\\site-packages\\matplotlib\\pyplot.py\", line 1189, in close\n",
      "    raise TypeError(\"close() argument must be a Figure, an int, a string, \"\n",
      "TypeError: close() argument must be a Figure, an int, a string, or None, not <class 'seaborn.matrix.ClusterGrid'>\n"
     ]
    },
    {
     "name": "stdout",
     "output_type": "stream",
     "text": [
      "The plot is huge and it can't be rendered.\n",
      "Running enrichment for REAC\n"
     ]
    },
    {
     "name": "stderr",
     "output_type": "stream",
     "text": [
      "Querying g:Profiler: 100%|██████████| 15/15 [00:10<00:00,  1.41program/s]\n"
     ]
    },
    {
     "name": "stdout",
     "output_type": "stream",
     "text": [
      "The plot is huge and it can't be rendered.\n"
     ]
    },
    {
     "name": "stderr",
     "output_type": "stream",
     "text": [
      "Traceback (most recent call last):\n",
      "  File \"z:\\phd\\Projects\\SpatialTM\\notebooks\\..\\Wassgard\\wassgard\\enrichment.py\", line 82, in run_topics_pathway_enrichment\n",
      "    plt.close(fig_cluster)\n",
      "  File \"c:\\Users\\alyos\\miniconda3\\envs\\bio_ai\\Lib\\site-packages\\matplotlib\\pyplot.py\", line 1189, in close\n",
      "    raise TypeError(\"close() argument must be a Figure, an int, a string, \"\n",
      "TypeError: close() argument must be a Figure, an int, a string, or None, not <class 'seaborn.matrix.ClusterGrid'>\n"
     ]
    }
   ],
   "source": [
    "import os\n",
    "import sys\n",
    "import pandas as pd\n",
    "import numpy as np\n",
    "sys.path.append('..')\n",
    "from Wassgard.wassgard import  enrichment\n",
    "\n",
    "results_dir =r\"Z:\\MorrissyLab Dropbox\\Manuscripts_in_progress\\spOT-NMF\\Raw_Data\\xenograft_casestudy_fig7\"\n",
    "for sample_name in os.listdir(results_dir)[0:1]:\n",
    "    results_path = os.path.join(results_dir, sample_name)\n",
    "    genome = \"GRCh38\" if \"GRCh38\" in sample_name else \"mm10\"\n",
    "    gene_scores_df = pd.read_csv(os.path.join(results_path, f\"genescores_per_topic_{sample_name}.csv\"), index_col=0)\n",
    "    for gene_set in [\"GO:BP\", \"GO:CC\", \"KEGG\", \"REAC\"]:\n",
    "        print(f\"Running enrichment for {gene_set}\")\n",
    "        enrichment.run_topics_pathway_enrichment(\n",
    "            gene_scores_df,\n",
    "            gene_set=gene_set,\n",
    "            results_dir_path=results_path,\n",
    "            top_n_features=1000,\n",
    "            genome=genome,\n",
    "            experiment_title=sample_name,\n",
    "        )"
   ]
  },
  {
   "cell_type": "code",
   "execution_count": 2,
   "id": "c0e0207e",
   "metadata": {},
   "outputs": [
    {
     "data": {
      "text/plain": [
       "['pdx_merge_all_default_GRCh38_15',\n",
       " 'pdx_merge_all_mm10_90',\n",
       " 'pdx_merge_all_normalized_mm10_90']"
      ]
     },
     "execution_count": 2,
     "metadata": {},
     "output_type": "execute_result"
    }
   ],
   "source": [
    "os.listdir(results_dir)"
   ]
  },
  {
   "cell_type": "markdown",
   "id": "9961311f",
   "metadata": {},
   "source": [
    "## 2. Plot Admix"
   ]
  },
  {
   "cell_type": "code",
   "execution_count": 1,
   "id": "bd95faf4",
   "metadata": {},
   "outputs": [
    {
     "name": "stdout",
     "output_type": "stream",
     "text": [
      "pdx_merge_all_default_GRCh38_15\n"
     ]
    },
    {
     "name": "stderr",
     "output_type": "stream",
     "text": [
      "c:\\Users\\alyos\\miniconda3\\envs\\bio_ai\\Lib\\site-packages\\anndata\\_core\\anndata.py:1820: UserWarning: Variable names are not unique. To make them unique, call `.var_names_make_unique`.\n",
      "  utils.warn_names_duplicates(\"var\")\n",
      "c:\\Users\\alyos\\miniconda3\\envs\\bio_ai\\Lib\\site-packages\\anndata\\_core\\anndata.py:1820: UserWarning: Variable names are not unique. To make them unique, call `.var_names_make_unique`.\n",
      "  utils.warn_names_duplicates(\"var\")\n"
     ]
    },
    {
     "name": "stdout",
     "output_type": "stream",
     "text": [
      "plot cols=4 rows=6\n"
     ]
    },
    {
     "name": "stderr",
     "output_type": "stream",
     "text": [
      "Plotting topics: 100%|██████████| 15/15 [06:37<00:00, 26.47s/it]\n"
     ]
    },
    {
     "name": "stdout",
     "output_type": "stream",
     "text": [
      "Filtered to 0.9 percentile\n",
      "plot cols=4 rows=6\n"
     ]
    },
    {
     "name": "stderr",
     "output_type": "stream",
     "text": [
      "Plotting topics: 100%|██████████| 15/15 [12:35<00:00, 50.38s/it]\n"
     ]
    },
    {
     "name": "stdout",
     "output_type": "stream",
     "text": [
      "pdx_merge_all_mm10_90\n"
     ]
    },
    {
     "name": "stderr",
     "output_type": "stream",
     "text": [
      "c:\\Users\\alyos\\miniconda3\\envs\\bio_ai\\Lib\\site-packages\\anndata\\_core\\anndata.py:1820: UserWarning: Variable names are not unique. To make them unique, call `.var_names_make_unique`.\n",
      "  utils.warn_names_duplicates(\"var\")\n",
      "c:\\Users\\alyos\\miniconda3\\envs\\bio_ai\\Lib\\site-packages\\anndata\\_core\\anndata.py:1820: UserWarning: Variable names are not unique. To make them unique, call `.var_names_make_unique`.\n",
      "  utils.warn_names_duplicates(\"var\")\n"
     ]
    },
    {
     "name": "stdout",
     "output_type": "stream",
     "text": [
      "plot cols=4 rows=6\n"
     ]
    },
    {
     "name": "stderr",
     "output_type": "stream",
     "text": [
      "Plotting topics: 100%|██████████| 90/90 [1:15:42<00:00, 50.47s/it]\n"
     ]
    },
    {
     "name": "stdout",
     "output_type": "stream",
     "text": [
      "Filtered to 0.9 percentile\n",
      "plot cols=4 rows=6\n"
     ]
    },
    {
     "name": "stderr",
     "output_type": "stream",
     "text": [
      "Plotting topics: 100%|██████████| 90/90 [1:26:06<00:00, 57.41s/it]\n"
     ]
    }
   ],
   "source": [
    "import os \n",
    "import pandas as pd \n",
    "import scanpy as sc \n",
    "import sys\n",
    "import numpy as np\n",
    "sys.path.append('..')\n",
    "from Wassgard.wassgard import  io, pl, annotate\n",
    "\n",
    "\n",
    "genome = \"GRCh38\"\n",
    "adata_path = r\"Z:\\MorrissyLab Dropbox\\Visium_profiling\\morrissy-chan\\aggr\\pdx_merge_all\"\n",
    "results_dir = r\"Z:\\MorrissyLab Dropbox\\Manuscripts_in_progress\\spOT-NMF\\Raw_Data\\xenograft_casestudy_fig7\"\n",
    "\n",
    "\n",
    "\n",
    "                                                                                                                                                                                                                                     \n",
    "for sample_name in os.listdir(results_dir):\n",
    "    print(sample_name)\n",
    "    genome = \"GRCh38\" if \"GRCh38\" in sample_name else \"mm10\"\n",
    "    adata = io.read_spatial_data(adata_path, is_aggr=True, is_xenograft=True, is_spatial=True,  genome=genome)\n",
    "    results_path = os.path.join(results_dir, sample_name)\n",
    "    rf_usages = pd.read_csv(os.path.join(results_path, f\"topics_per_spot_{sample_name}.csv\"), index_col=0)\n",
    "\n",
    "    ratio_map = {\n",
    "        \"GRCh38\": 1 - adata.obs[\"admix\"],\n",
    "        \"mm10\": adata.obs[\"admix\"]\n",
    "    }\n",
    "    admix_ratios = ratio_map.get(genome)\n",
    "    rf_usages = rf_usages.mul(admix_ratios, axis=0)\n",
    "    pl.plot_spatial_all_topics_aggr(\n",
    "        adata,\n",
    "        rf_usages=rf_usages,\n",
    "        results_dir_path=results_path,\n",
    "        title_name=sample_name,\n",
    "        same_legend=False,\n",
    "        plot_topic=True,\n",
    "    )\n",
    "\n",
    "    pl.plot_spatial_all_topics_aggr(\n",
    "        adata,\n",
    "        rf_usages=rf_usages,\n",
    "        results_dir_path=results_path,\n",
    "        title_name=sample_name,\n",
    "        same_legend=False,\n",
    "        plot_topic=True,\n",
    "        filter_th = 0.9,\n",
    "    )"
   ]
  },
  {
   "cell_type": "markdown",
   "id": "14d3f1dc",
   "metadata": {},
   "source": [
    "## 3. Stacked Plot of Density "
   ]
  },
  {
   "cell_type": "code",
   "execution_count": 3,
   "id": "bbe96bd9",
   "metadata": {},
   "outputs": [
    {
     "name": "stdout",
     "output_type": "stream",
     "text": [
      "pdx_merge_all_mm10_90\n"
     ]
    },
    {
     "name": "stderr",
     "output_type": "stream",
     "text": [
      "c:\\Users\\alyos\\miniconda3\\envs\\bio_ai\\Lib\\site-packages\\anndata\\_core\\anndata.py:1820: UserWarning: Variable names are not unique. To make them unique, call `.var_names_make_unique`.\n",
      "  utils.warn_names_duplicates(\"var\")\n",
      "c:\\Users\\alyos\\miniconda3\\envs\\bio_ai\\Lib\\site-packages\\anndata\\_core\\anndata.py:1820: UserWarning: Variable names are not unique. To make them unique, call `.var_names_make_unique`.\n",
      "  utils.warn_names_duplicates(\"var\")\n"
     ]
    }
   ],
   "source": [
    "import os \n",
    "import pandas as pd \n",
    "import scanpy as sc \n",
    "import sys\n",
    "import numpy as np\n",
    "sys.path.append('..')\n",
    "from Wassgard.wassgard import  io, pl, annotate\n",
    "import matplotlib as mpl\n",
    "mpl.rcParams['pdf.fonttype'] = 42\n",
    "mpl.rcParams['ps.fonttype'] = 42\n",
    "import matplotlib.pyplot as plt\n",
    "\n",
    "import os\n",
    "import pandas as pd\n",
    "import matplotlib.pyplot as plt\n",
    "\n",
    "\n",
    "\n",
    "adata_path = r\"Z:\\MorrissyLab Dropbox\\Visium_profiling\\morrissy-chan\\aggr\\pdx_merge_all\"\n",
    "results_dir = r\"Z:\\MorrissyLab Dropbox\\Manuscripts_in_progress\\spOT-NMF\\Raw_Data\\xenograft_casestudy_fig7\"\n",
    "for sample_name in os.listdir(results_dir):\n",
    "    if \"mm10\" not in sample_name:\n",
    "        continue\n",
    "\n",
    "    print(sample_name)\n",
    "    genome = \"GRCh38\" if \"GRCh38\" in sample_name else \"mm10\"\n",
    "    results_path = os.path.join(results_dir, sample_name)\n",
    "    rf_usages = pd.read_csv(os.path.join(results_path, f\"topics_per_spot_{sample_name}.csv\"), index_col=0)\n",
    "    adata = io.read_spatial_data(adata_path, is_aggr=True, is_xenograft=True, is_spatial=True,  genome=genome)\n",
    "    ratio_map = {\n",
    "        \"GRCh38\": 1 - adata.obs[\"admix\"],\n",
    "        \"mm10\": adata.obs[\"admix\"]\n",
    "    }\n",
    "    admix_ratios = ratio_map.get(genome)\n",
    "    # rf_usages = rf_usages.mul(admix_ratios, axis=0)\n",
    "    correlation_df_sorted = pd.read_csv(os.path.join(results_path, f\"admix_corr_{sample_name}.csv\"),index_col=0)\n",
    "    rf_usages = rf_usages[correlation_df_sorted[\"program\"].values]\n",
    "    break\n"
   ]
  },
  {
   "cell_type": "code",
   "execution_count": null,
   "id": "fa4b5442",
   "metadata": {},
   "outputs": [],
   "source": [
    "\n",
    "\n",
    "def plot_stacked_density_proportions(rf_usages, admix_ratios, results_path, sample_name):\n",
    "    # === Define bins and labels ===\n",
    "    bins = [0.0, 0.05, 0.2, 0.5, 0.8, 1.0]\n",
    "    all_labels = ['D0 (<0.05)', 'D1 (0.05–0.2)', 'D2 (0.2–0.5)', 'D3 (0.5–0.8)', 'D4 (0.8–1.0)']\n",
    "    no_d0_labels = all_labels[1:]\n",
    "\n",
    "    # === Bin admix values ===\n",
    "    admix_df = pd.DataFrame({'admix': 1-admix_ratios.values}, index=admix_ratios.index)\n",
    "    admix_df[\"density_bin\"] = pd.cut(admix_df[\"admix\"], bins=bins, labels=all_labels, right=True, include_lowest=True)\n",
    "    percentiles = rf_usages.quantile(0.9)\n",
    "\n",
    "    # === Count bins for values > 0.05 in rf_usages ===\n",
    "    count_df = pd.DataFrame(index=all_labels)\n",
    "    for col in rf_usages.columns:\n",
    "        col_data = rf_usages[col].dropna()\n",
    "        # high_usage_indices = col_data[col_data > 0.05].index\n",
    "        high_usage_indices = col_data[col_data >= percentiles[col_data.name]].index\n",
    "        matched_bins = admix_df.loc[high_usage_indices, \"density_bin\"]\n",
    "        bin_counts = matched_bins.value_counts(normalize=False)\n",
    "        count_df[col] = bin_counts\n",
    "\n",
    "    # === Normalize full proportions (D0–D4) ===\n",
    "    proportion_df = count_df.div(count_df.sum(axis=0), axis=1).fillna(0)\n",
    "\n",
    "    # === Normalize D1–D4 only ===\n",
    "    proportion_df_no_d0 = proportion_df.loc[no_d0_labels]\n",
    "    proportion_df_no_d0 = proportion_df_no_d0.div(proportion_df_no_d0.sum(axis=0), axis=1).fillna(0)\n",
    "\n",
    "    # === Custom color palette ===\n",
    "    custom_colors = ['#ffffff', '#1f77b4', '#ff7f0e', '#2ca02c', '#d62728']\n",
    "\n",
    "    # === Set smaller font globally ===\n",
    "    plt.rcParams.update({'font.size': 10, 'axes.titlesize': 11, 'axes.labelsize': 10, \n",
    "                         'xtick.labelsize': 9, 'ytick.labelsize': 9, 'legend.fontsize': 9})\n",
    "\n",
    "    # === Plot 1: With D0 ===\n",
    "    fig1, ax1 = plt.subplots(figsize=(11, 4))\n",
    "    proportion_df.T.plot(kind='bar', stacked=True, ax=ax1, width=0.8, legend=False, color=custom_colors)\n",
    "    ax1.set_title(\"Proportion of Inverse Admixed Spots (Usage> 90th percentile) by Density (With D0)\")\n",
    "    ax1.set_ylabel(\"Proportion\")\n",
    "    ax1.set_ylim(0, 1)\n",
    "    ax1.set_xlabel(\"Program\")\n",
    "    ax1.tick_params(axis='x', rotation=90)\n",
    "    handles, labels_ = ax1.get_legend_handles_labels()\n",
    "    fig1.legend(handles, labels_, title=\"Density Bin\", bbox_to_anchor=(1.01, 0.5), loc='center left', bbox_transform=fig1.transFigure)\n",
    "    fig1.tight_layout(rect=[0, 0, 0.93, 1])\n",
    "    fig1.savefig(os.path.join(results_path, f\"{sample_name}_density_with_D0_90pt.pdf\"), bbox_inches='tight')\n",
    "    plt.close(fig1)\n",
    "\n",
    "    # === Plot 2: Without D0 ===\n",
    "    fig2, ax2 = plt.subplots(figsize=(11, 4))\n",
    "    proportion_df_no_d0.T.plot(kind='bar', stacked=True, ax=ax2, width=0.8, legend=False, color=custom_colors[1:])\n",
    "    ax2.set_title(\"Proportion of Inverse Admixed Spots (Usage> 90th percentile) by Density (Without D0)\")\n",
    "    ax2.set_ylabel(\"Proportion\")\n",
    "    ax2.set_ylim(0, 1)\n",
    "    ax2.set_xlabel(\"Program\")\n",
    "    ax2.tick_params(axis='x', rotation=90)\n",
    "    handles, labels_ = ax2.get_legend_handles_labels()\n",
    "    fig2.legend(handles, labels_, title=\"Density Bin\", bbox_to_anchor=(1.01, 0.5), loc='center left', bbox_transform=fig2.transFigure)\n",
    "    fig2.tight_layout(rect=[0, 0, 0.93, 1])\n",
    "    fig2.savefig(os.path.join(results_path, f\"{sample_name}_density_without_D0_90pt.pdf\"), bbox_inches='tight')\n",
    "    plt.close(fig2)\n",
    "\n",
    "\n",
    "\n",
    "\n",
    "plot_stacked_density_proportions(rf_usages, admix_ratios, results_path, sample_name)\n"
   ]
  },
  {
   "cell_type": "markdown",
   "id": "7eb965f6",
   "metadata": {},
   "source": [
    "## Experiments with Gene sets"
   ]
  },
  {
   "cell_type": "code",
   "execution_count": null,
   "id": "fcc4f799",
   "metadata": {},
   "outputs": [],
   "source": [
    "import os\n",
    "import pandas as pd \n",
    "\n",
    "\n",
    "\n",
    "our_work_df = pd.read_csv(r\"Z:\\MorrissyLab Dropbox\\Visium_profiling\\xenograft_case_study\\BestLoss\\pdx_all_mm10_90_lr0.001eps0.1h0.01w0.01_mm10_90\\gene_stats_pdx_all_mm10_90_lr0.001eps0.1h0.01w0.01_mm10_90.csv\", index_col=0)\n",
    "our_work_mm = our_work_df[our_work_df[\"is_odg\"]==True].index.tolist()\n",
    "\n",
    "silver_dir = \"Z:/MorrissyLab Dropbox/Visium_profiling/results/cNMF\"\n",
    "def get_genes_list(file_path):\n",
    "    df = pd.read_csv(file_path, header=None)\n",
    "    return df[0].values.tolist()\n",
    "silver_mm = get_genes_list(file_path=os.path.join(silver_dir, \"GBM_PDX_Visium_Mm_K90/cNMF_output/Mm_all.overdispersed_genes.txt\"))\n",
    "\n",
    "\n",
    "\n",
    "silver_hs = get_genes_list(file_path=os.path.join(silver_dir, \"GBM_PDX_Visium_Hs_K15/cNMF_output/Hs_all.overdispersed_genes.txt\"))\n",
    "\n",
    "import matplotlib.pyplot as plt\n",
    "from matplotlib_venn import venn2\n",
    "\n",
    "def visualize_set_relations(silver_mm, our_work_mm, set_labels=('silver_mm', 'our_work_mm')):\n",
    "    \"\"\"\n",
    "    Visualizes the overlap, differences, and union of two lists using a Venn diagram.\n",
    "\n",
    "    Args:\n",
    "        silver_mm (list): The first list.\n",
    "        our_work_mm (list): The second list.\n",
    "        set_labels (tuple, optional): Labels for the two sets in the Venn diagram. Defaults to ('silver_mm', 'our_work_mm').\n",
    "    \"\"\"\n",
    "\n",
    "    # Convert lists to sets\n",
    "    set1 = set(silver_mm)\n",
    "    set2 = set(our_work_mm)\n",
    "\n",
    "    # Calculate set operations\n",
    "    intersection = len(set1.intersection(set2))\n",
    "    set1_only = len(set1.difference(set2))\n",
    "    set2_only = len(set2.difference(set1))\n",
    "\n",
    "    # Create the Venn diagram\n",
    "    plt.figure(figsize=(8, 8))  # Adjust figure size if needed\n",
    "    venn2(subsets=(set1_only, set2_only, intersection), set_labels=set_labels)\n",
    "\n",
    "    # Customize the plot\n",
    "    plt.title(\"Venn Diagram of silver_mm and our_work_mm\")\n",
    "\n",
    "    # Display the plot\n",
    "    plt.show()\n",
    "\n",
    "\n",
    "visualize_set_relations(silver_mm, our_work_mm)\n",
    "\n"
   ]
  },
  {
   "cell_type": "code",
   "execution_count": 26,
   "id": "ccca60ff",
   "metadata": {},
   "outputs": [],
   "source": [
    "import pandas as pd\n",
    "import seaborn as sns\n",
    "\n",
    "import os\n",
    "from glob import glob\n",
    "def get_sorted_matches(df):\n",
    "    new_data = {}\n",
    "\n",
    "    for col in df.columns:\n",
    "        # Get non-zero values\n",
    "        non_zero = df[col][df[col] != 0]\n",
    "        # Create list of (row, formatted_score) tuples and sort\n",
    "        sorted_tuples = sorted(\n",
    "            [(idx, float(f\"{val:.3f}\")) for idx, val in non_zero.items()],\n",
    "            key=lambda x: -x[1]\n",
    "        )\n",
    "        new_data[col] = [sorted_tuples]  # Wrap in list to form one-row DataFrame\n",
    "\n",
    "    # Create new DataFrame\n",
    "    result_df = pd.DataFrame.from_dict(new_data, orient='index', columns=['matches'])\n",
    "    return result_df\n",
    "\n",
    "def merge_genesets(results_dir_path):\n",
    "\n",
    "    # Step 1: Define path to directory with files\n",
    "    directory = os.path.join(results_dir_path, \"genesets_results\")\n",
    "    # Step 2: Read and merge all CSVs that start with \"genesets_scores_\"\n",
    "    all_files = glob(os.path.join(directory, \"genesets_scores_*.csv\"))\n",
    "\n",
    "    # Step 3: Concatenate them into a single DataFrame\n",
    "    df_list = [pd.read_csv(f, index_col=0) for f in all_files]\n",
    "    merged_df = pd.concat(df_list, axis=0)\n",
    "    # merged_df = merged_df.loc[:, subset_programs]\n",
    "    merged_df = merged_df[merged_df.sum(axis=1) >= 0.1]\n",
    "    merged_df.index = merged_df.index.str.replace(r'^\\d+__', '', regex=True)\n",
    "\n",
    "    result = get_sorted_matches(merged_df)\n",
    "    result.to_csv(os.path.join(results_dir_path, f\"genesets_rbo_clustermap_{os.path.basename(results_dir_path)}_summary.csv\"))\n",
    "\n",
    "    # g = sns.clustermap(\n",
    "    #     merged_df.astype(float),\n",
    "    #     cmap=\"Blues\",\n",
    "    #     figsize=(20, 50),\n",
    "    #     xticklabels=True,\n",
    "    #     yticklabels=True,\n",
    "    #     vmin=0,\n",
    "    #     vmax=0.2,\n",
    "    #     col_cluster=True,  # Hide column dendrogram\n",
    "    #     metric='euclidean',\n",
    "    #     method='average',\n",
    "    #     cbar_pos=(0.02, 0.8, 0.03, 0.18),  # adjust position and size of colorbar\n",
    "    # )\n",
    "    # # Hide dendrogram axes (clustering lines)\n",
    "    # g.ax_row_dendrogram.set_visible(False)\n",
    "    # g.ax_col_dendrogram.set_visible(False)\n",
    "    # g.ax_heatmap.set_yticklabels(g.ax_heatmap.get_yticklabels(), fontsize=6)\n",
    "\n",
    "    # plt.title(os.path.basename(results_dir_path))\n",
    "    # plt.savefig(os.path.join(results_dir_path, f\"genesets_rbo_clustermap_{os.path.basename(results_dir_path)}.pdf\"))\n",
    "    # # plt.show()\n",
    "    # plt.close()\n",
    "\n",
    "\n",
    "merge_genesets(results_dir_path=r\"Z:\\MorrissyLab Dropbox\\Manuscripts_in_progress\\spOT-NMF\\Raw_Data\\xenograft_casestudy_fig7\\pdx_merge_all_mm10_90\")\n",
    "merge_genesets(results_dir_path=r\"Z:\\MorrissyLab Dropbox\\Manuscripts_in_progress\\spOT-NMF\\Raw_Data\\xenograft_casestudy_fig7\\pdx_merge_all_default_GRCh38_15\")\n",
    "\n"
   ]
  },
  {
   "cell_type": "markdown",
   "id": "6da201c9",
   "metadata": {},
   "source": [
    "## Varsha's technique in gene set selection"
   ]
  },
  {
   "cell_type": "code",
   "execution_count": 1,
   "id": "de160442",
   "metadata": {},
   "outputs": [
    {
     "name": "stderr",
     "output_type": "stream",
     "text": [
      "C:\\Users\\alyos\\miniconda3\\envs\\bio_ai\\Lib\\site-packages\\anndata\\_core\\anndata.py:1820: UserWarning: Variable names are not unique. To make them unique, call `.var_names_make_unique`.\n",
      "  utils.warn_names_duplicates(\"var\")\n",
      "C:\\Users\\alyos\\miniconda3\\envs\\bio_ai\\Lib\\site-packages\\anndata\\_core\\anndata.py:1820: UserWarning: Variable names are not unique. To make them unique, call `.var_names_make_unique`.\n",
      "  utils.warn_names_duplicates(\"var\")\n"
     ]
    },
    {
     "name": "stdout",
     "output_type": "stream",
     "text": [
      "Calculating ODG of BT143_x3_76d_i_0um_ctrl\n",
      "Selecting Genes with alpha 0.05 and use_unadjusted_pvals False is_spatial False\n",
      "Initial data: 2920 spots, 32285 genes\n",
      "Spots after filtering: 2920\n",
      "Genes after filtering: 9451\n",
      "Using GAM model with k=5 ...\n",
      "Identified 990 overdispersed genes.\n",
      "Calculating ODG of BT143_x3_76d_i_40um_ctrl\n",
      "Selecting Genes with alpha 0.05 and use_unadjusted_pvals False is_spatial False\n",
      "Initial data: 2891 spots, 32285 genes\n",
      "Spots after filtering: 2891\n",
      "Genes after filtering: 8127\n",
      "Using GAM model with k=5 ...\n",
      "Identified 840 overdispersed genes.\n",
      "Calculating ODG of BT143_x4_76d_i_0um_ctrl\n",
      "Selecting Genes with alpha 0.05 and use_unadjusted_pvals False is_spatial False\n",
      "Initial data: 1622 spots, 32285 genes\n",
      "Spots after filtering: 1622\n",
      "Genes after filtering: 4566\n",
      "Using GAM model with k=5 ...\n",
      "Identified 447 overdispersed genes.\n",
      "Calculating ODG of BT143_x4_76d_i_30um_ctrl\n",
      "Selecting Genes with alpha 0.05 and use_unadjusted_pvals False is_spatial False\n",
      "Initial data: 2143 spots, 32285 genes\n",
      "Spots after filtering: 2142\n",
      "Genes after filtering: 6915\n",
      "Using GAM model with k=5 ...\n",
      "Identified 805 overdispersed genes.\n",
      "Calculating ODG of BT143_x1_28d_i_0um_ctrl\n",
      "Selecting Genes with alpha 0.05 and use_unadjusted_pvals False is_spatial False\n",
      "Initial data: 1884 spots, 32285 genes\n",
      "Spots after filtering: 1884\n",
      "Genes after filtering: 10104\n",
      "Using GAM model with k=5 ...\n",
      "Identified 750 overdispersed genes.\n",
      "Calculating ODG of BT143_x1_28d_i_30um_ctrl\n",
      "Selecting Genes with alpha 0.05 and use_unadjusted_pvals False is_spatial False\n",
      "Initial data: 1812 spots, 32285 genes\n",
      "Spots after filtering: 1812\n",
      "Genes after filtering: 10162\n",
      "Using GAM model with k=5 ...\n",
      "Identified 626 overdispersed genes.\n",
      "Calculating ODG of BT143_x2_48d_i_0um_ctrl\n",
      "Selecting Genes with alpha 0.05 and use_unadjusted_pvals False is_spatial False\n",
      "Initial data: 1569 spots, 32285 genes\n",
      "Spots after filtering: 1569\n",
      "Genes after filtering: 10065\n",
      "Using GAM model with k=5 ...\n",
      "Identified 737 overdispersed genes.\n",
      "Calculating ODG of BT143_x2_48d_i_30um_ctrl\n",
      "Selecting Genes with alpha 0.05 and use_unadjusted_pvals False is_spatial False\n",
      "Initial data: 1515 spots, 32285 genes\n",
      "Spots after filtering: 1515\n",
      "Genes after filtering: 9626\n",
      "Using GAM model with k=5 ...\n",
      "Identified 585 overdispersed genes.\n",
      "Calculating ODG of BT143_z1_76d_i_0um_ctrl\n",
      "Selecting Genes with alpha 0.05 and use_unadjusted_pvals False is_spatial False\n",
      "Initial data: 2059 spots, 32285 genes\n",
      "Spots after filtering: 2059\n",
      "Genes after filtering: 10432\n",
      "Using GAM model with k=5 ...\n",
      "Identified 753 overdispersed genes.\n",
      "Calculating ODG of BT143_z1_76d_i_30um_ctrl\n",
      "Selecting Genes with alpha 0.05 and use_unadjusted_pvals False is_spatial False\n",
      "Initial data: 1863 spots, 32285 genes\n",
      "Spots after filtering: 1863\n",
      "Genes after filtering: 8541\n",
      "Using GAM model with k=5 ...\n",
      "Identified 347 overdispersed genes.\n",
      "Calculating ODG of BT143_z4_105d_c_0um_ctrl\n",
      "Selecting Genes with alpha 0.05 and use_unadjusted_pvals False is_spatial False\n",
      "Initial data: 1624 spots, 32285 genes\n",
      "Spots after filtering: 1624\n",
      "Genes after filtering: 9644\n",
      "Using GAM model with k=5 ...\n",
      "Identified 432 overdispersed genes.\n",
      "Calculating ODG of BT143_z4_105d_i_0um_ctrl\n",
      "Selecting Genes with alpha 0.05 and use_unadjusted_pvals False is_spatial False\n",
      "Initial data: 1352 spots, 32285 genes\n",
      "Spots after filtering: 1352\n",
      "Genes after filtering: 6695\n",
      "Using GAM model with k=5 ...\n",
      "Identified 376 overdispersed genes.\n",
      "Calculating ODG of BT143_y1_36d_i_0um_ctrl\n",
      "Selecting Genes with alpha 0.05 and use_unadjusted_pvals False is_spatial False\n",
      "Initial data: 1881 spots, 32285 genes\n",
      "Spots after filtering: 1881\n",
      "Genes after filtering: 11120\n",
      "Using GAM model with k=5 ...\n",
      "Identified 774 overdispersed genes.\n",
      "Calculating ODG of BT143_y1_36d_i_30um_ctrl\n",
      "Selecting Genes with alpha 0.05 and use_unadjusted_pvals False is_spatial False\n",
      "Initial data: 1674 spots, 32285 genes\n",
      "Spots after filtering: 1674\n",
      "Genes after filtering: 10777\n",
      "Using GAM model with k=5 ...\n",
      "Identified 698 overdispersed genes.\n",
      "Calculating ODG of BT143_y3_128d_c_0um_ctrl\n",
      "Selecting Genes with alpha 0.05 and use_unadjusted_pvals False is_spatial False\n",
      "Initial data: 1115 spots, 32285 genes\n",
      "Spots after filtering: 1115\n",
      "Genes after filtering: 11065\n",
      "Using GAM model with k=5 ...\n",
      "Identified 605 overdispersed genes.\n",
      "Calculating ODG of BT143_y3_128d_i_0um_ctrl\n",
      "Selecting Genes with alpha 0.05 and use_unadjusted_pvals False is_spatial False\n",
      "Initial data: 1646 spots, 32285 genes\n",
      "Spots after filtering: 1646\n",
      "Genes after filtering: 10398\n",
      "Using GAM model with k=5 ...\n",
      "Identified 619 overdispersed genes.\n",
      "Calculating ODG of BT238_x2_165d_i_0um_ctrl\n",
      "Selecting Genes with alpha 0.05 and use_unadjusted_pvals False is_spatial False\n",
      "Initial data: 3200 spots, 32285 genes\n",
      "Spots after filtering: 3200\n",
      "Genes after filtering: 10399\n",
      "Using GAM model with k=5 ...\n",
      "Identified 1142 overdispersed genes.\n",
      "Calculating ODG of BT238_x5_428d_i_0um_ctrl\n",
      "Selecting Genes with alpha 0.05 and use_unadjusted_pvals False is_spatial False\n",
      "Initial data: 3989 spots, 32285 genes\n",
      "Spots after filtering: 3989\n",
      "Genes after filtering: 7258\n",
      "Using GAM model with k=5 ...\n",
      "Identified 797 overdispersed genes.\n",
      "Calculating ODG of BT161_m1_40d_i_0um_ctrl\n",
      "Selecting Genes with alpha 0.05 and use_unadjusted_pvals False is_spatial False\n",
      "Initial data: 2909 spots, 32285 genes\n",
      "Spots after filtering: 2909\n",
      "Genes after filtering: 10367\n",
      "Using GAM model with k=5 ...\n",
      "Identified 1068 overdispersed genes.\n",
      "Calculating ODG of BT161_m5_150d_i_0um_ctrl\n",
      "Selecting Genes with alpha 0.05 and use_unadjusted_pvals False is_spatial False\n",
      "Initial data: 3433 spots, 32285 genes\n",
      "Spots after filtering: 3433\n",
      "Genes after filtering: 9879\n",
      "Using GAM model with k=5 ...\n",
      "Identified 1253 overdispersed genes.\n",
      "Calculating ODG of BT134_m1_64d_i_0um_ctrl\n",
      "Selecting Genes with alpha 0.05 and use_unadjusted_pvals False is_spatial False\n",
      "Initial data: 3181 spots, 32285 genes\n",
      "Spots after filtering: 3181\n",
      "Genes after filtering: 10053\n",
      "Using GAM model with k=5 ...\n",
      "Identified 1025 overdispersed genes.\n",
      "Calculating ODG of BT134_m3_213d_i_0um_ctrl\n",
      "Selecting Genes with alpha 0.05 and use_unadjusted_pvals False is_spatial False\n",
      "Initial data: 2883 spots, 32285 genes\n",
      "Spots after filtering: 2883\n",
      "Genes after filtering: 9017\n",
      "Using GAM model with k=5 ...\n",
      "Identified 837 overdispersed genes.\n",
      "Calculating ODG of BT134_m5_332d_i_0um_ctrl\n",
      "Selecting Genes with alpha 0.05 and use_unadjusted_pvals False is_spatial False\n",
      "Initial data: 2787 spots, 32285 genes\n",
      "Spots after filtering: 2787\n",
      "Genes after filtering: 7832\n",
      "Using GAM model with k=5 ...\n",
      "Identified 550 overdispersed genes.\n"
     ]
    }
   ],
   "source": [
    "import sys\n",
    "from tqdm import tqdm\n",
    "sys.path.append('..')\n",
    "from Wassgard.wassgard import io,annotate, pl, hvg\n",
    "import os \n",
    "import pandas as pd\n",
    "\n",
    "\n",
    "output_dir = r\"Z:\\MorrissyLab Dropbox\\Visium_profiling\\xenograft_case_study\\odg_genes\"\n",
    "samples_dir = r\"Z:\\MorrissyLab Dropbox\\Visium_profiling\\morrissy-chan\\aggr\\pdx_merge_all\"\n",
    "\n",
    "                                                                                                                                                                                                                                     \n",
    "genome = \"mm10\"\n",
    "sample_name = f\"pdx_merge_all_{genome}\"\n",
    "adata = io.read_spatial_data(samples_dir, is_aggr=True, is_xenograft=True, is_spatial=True,  genome=genome)\n",
    "odg_list = hvg.compute_overdispersed_genes_batches(adata, batch_key=[\"sample_id\"], union_agg=False, use_unadjusted_pvals=False)\n"
   ]
  },
  {
   "cell_type": "code",
   "execution_count": 2,
   "id": "ec980ca3-8caf-4323-bb15-29bae5e19e8c",
   "metadata": {},
   "outputs": [
    {
     "data": {
      "text/plain": [
       "2991"
      ]
     },
     "execution_count": 2,
     "metadata": {},
     "output_type": "execute_result"
    }
   ],
   "source": [
    "len(odg_list)"
   ]
  },
  {
   "cell_type": "code",
   "execution_count": 38,
   "id": "4f8c2e9f",
   "metadata": {},
   "outputs": [
    {
     "data": {
      "image/png": "[encoded data removed]",
      "text/plain": [
       "<Figure size 800x800 with 1 Axes>"
      ]
     },
     "metadata": {},
     "output_type": "display_data"
    }
   ],
   "source": [
    "visualize_set_relations(silver_mm, list(set(all_genes)))\n"
   ]
  }
 ],
 "metadata": {
  "kernelspec": {
   "display_name": "bio_ai",
   "language": "python",
   "name": "python3"
  },
  "language_info": {
   "codemirror_mode": {
    "name": "ipython",
    "version": 3
   },
   "file_extension": ".py",
   "mimetype": "text/x-python",
   "name": "python",
   "nbconvert_exporter": "python",
   "pygments_lexer": "ipython3",
   "version": "3.12.3"
  }
 },
 "nbformat": 4,
 "nbformat_minor": 5
}
